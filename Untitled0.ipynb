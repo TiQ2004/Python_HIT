{
  "nbformat": 4,
  "nbformat_minor": 0,
  "metadata": {
    "colab": {
      "provenance": []
    },
    "kernelspec": {
      "name": "python3",
      "display_name": "Python 3"
    },
    "language_info": {
      "name": "python"
    }
  },
  "cells": [
    {
      "cell_type": "code",
      "execution_count": 3,
      "metadata": {
        "colab": {
          "base_uri": "https://localhost:8080/"
        },
        "id": "r3vOZ51qiuin",
        "outputId": "03c1e354-288f-484f-9644-2c7a72f2dd96"
      },
      "outputs": [
        {
          "output_type": "stream",
          "name": "stdout",
          "text": [
            "Nhập số a: 5\n",
            "Nhập số b: 10\n",
            "a + b = 15\n",
            "a - b = -5\n",
            "a * b = 50\n",
            "a / b = 0.5\n",
            "a // b = 0\n",
            "a ^ b = 9765625\n",
            "a % b = 5\n",
            "a nhỏ hơn b\n",
            "a AND b = 0\n",
            "a OR b = 15\n",
            "a XOR b = 15\n",
            "NOT (a == b) = True\n",
            "a dịch phải 5 bit: 0\n",
            "a dịch trái 6 bit: 320\n",
            "Hệ cơ số 2 đảo ngược của a: 101\n"
          ]
        }
      ],
      "source": [
        "a = int(input(\"Nhập số a: \"))\n",
        "b = int(input(\"Nhập số b: \"))\n",
        "\n",
        "print(\"a + b =\", a + b)\n",
        "\n",
        "print(\"a - b =\", a - b)\n",
        "\n",
        "print(\"a * b =\", a * b)\n",
        "\n",
        "print(\"a / b =\", a / b)\n",
        "\n",
        "print(\"a // b =\", a // b)\n",
        "\n",
        "print(\"a ^ b =\", a ** b)\n",
        "\n",
        "print(\"a % b =\", a % b)\n",
        "\n",
        "if a > b:\n",
        "    print(\"a lớn hơn b\")\n",
        "elif a < b:\n",
        "    print(\"a nhỏ hơn b\")\n",
        "else:\n",
        "    print(\"a bằng b\")\n",
        "\n",
        "print(\"a AND b =\", a & b)\n",
        "\n",
        "print(\"a OR b =\", a | b)\n",
        "\n",
        "print(\"a XOR b =\", a ^ b)\n",
        "\n",
        "print(\"NOT (a == b) =\", not (a == b))\n",
        "\n",
        "print(\"a dịch phải 5 bit:\", a >> 5)\n",
        "\n",
        "print(\"a dịch trái 6 bit:\", a << 6)\n",
        "\n",
        "binary_a = bin(a)[2:]\n",
        "reverse_binary_a = binary_a[::-1]\n",
        "print(\"Hệ cơ số 2 đảo ngược của a:\", reverse_binary_a)"
      ]
    },
    {
      "cell_type": "markdown",
      "source": [
        "Câu 2:"
      ],
      "metadata": {
        "id": "9UOGjS9PkPK-"
      }
    },
    {
      "cell_type": "code",
      "source": [
        "\n",
        "input_string = input(\"Nhập chuỗi ký tự: \")\n",
        "\n",
        "contains_hit = \"hit\" in input_string.lower()\n",
        "\n",
        "contains_14 = \"14\" in input_string\n",
        "\n",
        "if contains_hit:\n",
        "    print(\"True\")\n",
        "else:\n",
        "    print(\"False\")\n",
        "\n",
        "if not contains_14:\n",
        "    print(\"True\")\n",
        "else:\n",
        "    print(\"False\")"
      ],
      "metadata": {
        "id": "x_NerqKolCkD",
        "outputId": "8462d6bd-e221-4801-af87-0273edf3d251",
        "colab": {
          "base_uri": "https://localhost:8080/"
        }
      },
      "execution_count": 4,
      "outputs": [
        {
          "output_type": "stream",
          "name": "stdout",
          "text": [
            "Nhập chuỗi ký tự: HIT 14\n",
            "True\n",
            "False\n"
          ]
        }
      ]
    },
    {
      "cell_type": "markdown",
      "source": [
        "Câu 3:"
      ],
      "metadata": {
        "id": "YBNHEZVnl4i8"
      }
    },
    {
      "cell_type": "code",
      "source": [
        "text = \"I'm HIT 14\\n\"\n",
        "result = text * 20\n",
        "print(result)"
      ],
      "metadata": {
        "id": "fehkzgPIl8xX",
        "outputId": "8c19e22c-a18f-4a09-a670-91efcf72d49d",
        "colab": {
          "base_uri": "https://localhost:8080/"
        }
      },
      "execution_count": 5,
      "outputs": [
        {
          "output_type": "stream",
          "name": "stdout",
          "text": [
            "I'm HIT 14\n",
            "I'm HIT 14\n",
            "I'm HIT 14\n",
            "I'm HIT 14\n",
            "I'm HIT 14\n",
            "I'm HIT 14\n",
            "I'm HIT 14\n",
            "I'm HIT 14\n",
            "I'm HIT 14\n",
            "I'm HIT 14\n",
            "I'm HIT 14\n",
            "I'm HIT 14\n",
            "I'm HIT 14\n",
            "I'm HIT 14\n",
            "I'm HIT 14\n",
            "I'm HIT 14\n",
            "I'm HIT 14\n",
            "I'm HIT 14\n",
            "I'm HIT 14\n",
            "I'm HIT 14\n",
            "\n"
          ]
        }
      ]
    },
    {
      "cell_type": "markdown",
      "source": [
        "Câu 4:"
      ],
      "metadata": {
        "id": "HdIuswfzmY2x"
      }
    },
    {
      "cell_type": "code",
      "source": [
        "def count_bits_required(a):\n",
        "    if a < 0:\n",
        "        a = -a\n",
        "\n",
        "    count = 0\n",
        "    while a > 0:\n",
        "        count += 1\n",
        "        a >>= 1\n",
        "    return count\n",
        "\n",
        "a = int(input(\"Nhập số a: \"))\n",
        "bit_count = count_bits_required(a)\n",
        "print(\"Số bit cần thiết để biểu diễn a (không bao gồm phần dấu và các số 0 ở đầu):\", bit_count)"
      ],
      "metadata": {
        "id": "QuoGkLHymawZ",
        "outputId": "8871ef88-e1b9-43be-eaef-c2de4c8df459",
        "colab": {
          "base_uri": "https://localhost:8080/"
        }
      },
      "execution_count": 6,
      "outputs": [
        {
          "output_type": "stream",
          "name": "stdout",
          "text": [
            "Nhập số a: 10\n",
            "Số bit cần thiết để biểu diễn a (không bao gồm phần dấu và các số 0 ở đầu): 4\n"
          ]
        }
      ]
    }
  ]
}