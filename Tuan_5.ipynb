{
  "nbformat": 4,
  "nbformat_minor": 0,
  "metadata": {
    "colab": {
      "provenance": []
    },
    "kernelspec": {
      "name": "python3",
      "display_name": "Python 3"
    },
    "language_info": {
      "name": "python"
    }
  },
  "cells": [
    {
      "cell_type": "markdown",
      "source": [
        "Bài 1:"
      ],
      "metadata": {
        "id": "_hSpeuMxaHS2"
      }
    },
    {
      "cell_type": "code",
      "source": [
        "def nhap_ds():\n",
        "    danh_sach = set(input(\"Nhập danh sách mã sinh viên: \").split())\n",
        "    return danh_sach\n",
        "\n",
        "print(\"Nhập danh sách sinh viên tại bàn 1:\")\n",
        "ds_ban1 = nhap_ds()\n",
        "\n",
        "print(\"Nhập danh sách sinh viên tại bàn 2:\")\n",
        "ds_ban2 = nhap_ds()\n",
        "\n",
        "sinh_vien_chung = ds_ban1 & ds_ban2\n",
        "if sinh_vien_chung:\n",
        "    print(\"Sinh viên đăng ký tại cả hai bàn:\", sinh_vien_chung)\n",
        "else:\n",
        "    print(\"Không có sinh viên nào đăng ký tại cả hai bàn.\")\n",
        "\n",
        "sv_ban1_not_ban2 = ds_ban1 - ds_ban2\n",
        "print(\"Danh sách sinh viên tại bàn 1 mà không đăng ký tại bàn 2:\", sv_ban1_not_ban2)\n",
        "\n",
        "sv_dang_ki_1_ban = (ds_ban1 | ds_ban2) - (ds_ban1 & ds_ban2)\n",
        "print(\"Danh sách sinh viên đăng ký 1 bàn :\", sv_dang_ki_1_ban)\n"
      ],
      "metadata": {
        "colab": {
          "base_uri": "https://localhost:8080/"
        },
        "id": "AOnXicHCaKwe",
        "outputId": "9562f0b7-caf9-4a12-8b50-5ed8223b4b0a"
      },
      "execution_count": null,
      "outputs": [
        {
          "output_type": "stream",
          "name": "stdout",
          "text": [
            "Nhập danh sách sinh viên tại bàn 1:\n",
            "Nhập danh sách mã sinh viên: 2022 2020 2021 2023\n",
            "Nhập danh sách sinh viên tại bàn 2:\n",
            "Nhập danh sách mã sinh viên: 2022 2023 2024 2025\n",
            "Sinh viên đăng ký tại cả hai bàn: {'2023', '2022'}\n",
            "Danh sách sinh viên tại bàn 1 mà không đăng ký tại bàn 2: {'2021', '2020'}\n",
            "Danh sách sinh viên đăng ký 1 bàn : {'2021', '2024', '2020', '2025'}\n"
          ]
        }
      ]
    },
    {
      "cell_type": "markdown",
      "source": [
        "Bài 2:"
      ],
      "metadata": {
        "id": "2JVAyV7GfSZA"
      }
    },
    {
      "cell_type": "code",
      "source": [
        "n = input()\n",
        "arr = set(map(int,input().split()))\n",
        "late_arr = sorted(arr)\n",
        "list_arr = list(late_arr)\n",
        "m = int(input())\n",
        "ans = set()\n",
        "cnt = 0; tmp = 0\n",
        "while(cnt <= m):\n",
        "  if(cnt + list_arr[tmp] <= m):\n",
        "    ans.add(list_arr[tmp])\n",
        "  cnt += list_arr[tmp]\n",
        "  tmp += 1\n",
        "print(ans)"
      ],
      "metadata": {
        "colab": {
          "base_uri": "https://localhost:8080/"
        },
        "id": "P3GRPiL_fVel",
        "outputId": "c5f2c37c-a853-4245-d60d-9166d318570f"
      },
      "execution_count": null,
      "outputs": [
        {
          "output_type": "stream",
          "name": "stdout",
          "text": [
            "4\n",
            "1 2 3 4\n",
            "6\n",
            "{1, 2, 3}\n"
          ]
        }
      ]
    },
    {
      "cell_type": "markdown",
      "source": [
        "Câu 3:"
      ],
      "metadata": {
        "id": "2Q3YuEohmOEr"
      }
    },
    {
      "cell_type": "code",
      "source": [
        "van_ban = input()\n",
        "tu = [i for i in map(str, van_ban.split())]\n",
        "arr = set(tu)\n",
        "tmp = []\n",
        "ans = 0\n",
        "for i in arr:\n",
        "    tmp.append((i, tu.count(i)))\n",
        "    ans = max(tu.count(i), ans)\n",
        "res = []\n",
        "for i in tmp:\n",
        "    if(i[1] == ans):\n",
        "        res.append(i)\n",
        "print(tuple(res))"
      ],
      "metadata": {
        "colab": {
          "base_uri": "https://localhost:8080/"
        },
        "id": "Ml01C2nQmP9j",
        "outputId": "4635a2e2-70c5-44f1-c4a7-d58155775933"
      },
      "execution_count": null,
      "outputs": [
        {
          "output_type": "stream",
          "name": "stdout",
          "text": [
            "This is a test. This is only a test.\n",
            "(('is', 2), ('a', 2), ('This', 2), ('test.', 2))\n"
          ]
        }
      ]
    },
    {
      "cell_type": "markdown",
      "source": [
        "Câu 4:"
      ],
      "metadata": {
        "id": "1yo-cVyCp9rB"
      }
    },
    {
      "cell_type": "code",
      "source": [
        "n = int(input(\"Nhập số lượng phần tử của mảng: \"))\n",
        "a = []\n",
        "for i in range(n):\n",
        "   xau = input(f\"Nhập phần tử thứ {i + 1}: \")\n",
        "   a.append(xau)\n",
        "\n",
        "b = tuple(a)\n",
        "\n",
        "dem_dang_so = 0\n",
        "for phan_tu in b:\n",
        "   if phan_tu.isdigit():  # Sử dụng phương thức isdigit() để kiểm tra xem có phải là dạng số hay không\n",
        "      dem_dang_so += 1\n",
        "\n",
        "print(\"Số lượng phần tử trong b có dạng số:\", dem_dang_so)"
      ],
      "metadata": {
        "colab": {
          "base_uri": "https://localhost:8080/"
        },
        "id": "iQ4JGbv0qVZ5",
        "outputId": "b4a5a896-ab06-4cab-cd38-0facc9b07693"
      },
      "execution_count": null,
      "outputs": [
        {
          "output_type": "stream",
          "name": "stdout",
          "text": [
            "Nhập số lượng phần tử của mảng: 5\n",
            "Nhập phần tử thứ 1: a13\n",
            "Nhập phần tử thứ 2: 123\n",
            "Nhập phần tử thứ 3: 234\n",
            "Nhập phần tử thứ 4: abc\n",
            "Nhập phần tử thứ 5: 512\n",
            "Số lượng phần tử trong b có dạng số: 3\n"
          ]
        }
      ]
    },
    {
      "cell_type": "markdown",
      "source": [
        "Câu 5:"
      ],
      "metadata": {
        "id": "mZjMZ4j4siUV"
      }
    },
    {
      "cell_type": "code",
      "source": [
        "def them_so_11_va_tim_cap_so(set_so_nguyen, so_may_man):\n",
        "    if 11 not in set_so_nguyen:\n",
        "        set_so_nguyen.add(11)\n",
        "\n",
        "    cap_so_may_man = []\n",
        "    for so in set_so_nguyen:\n",
        "        complement = so_may_man - so\n",
        "        if complement in set_so_nguyen and (so, complement) not in cap_so_may_man and (complement, so) not in cap_so_may_man:\n",
        "            cap_so_may_man.append((so, complement))\n",
        "\n",
        "    return tuple(cap_so_may_man)\n",
        "\n",
        "set_so_nguyen = set(map(int, input(\"Nhập set số nguyên: \").split()))\n",
        "\n",
        "so_may_man = int(input(\"Nhập số may mắn của An: \"))\n",
        "\n",
        "cap_so_may_man = them_so_11_va_tim_cap_so(set_so_nguyen, so_may_man)\n",
        "\n",
        "print(\"Set số nguyên sau khi thêm số 11:\", set_so_nguyen)\n",
        "\n",
        "for cap_so in cap_so_may_man:\n",
        "    print(\"Cặp số:\", cap_so, \"Tổng của cặp số:\", sum(cap_so))"
      ],
      "metadata": {
        "colab": {
          "base_uri": "https://localhost:8080/"
        },
        "id": "M1sWpt5QskJN",
        "outputId": "7593f4e5-b022-4c8b-8803-be909a5cb5ca"
      },
      "execution_count": null,
      "outputs": [
        {
          "output_type": "stream",
          "name": "stdout",
          "text": [
            "Nhập set số nguyên: 1 2 3 4 5 6 7 8 9 10 12\n",
            "Nhập số may mắn của An: 11\n",
            "Set số nguyên sau khi thêm số 11: {1, 2, 3, 4, 5, 6, 7, 8, 9, 10, 11, 12}\n",
            "Cặp số: (1, 10) Tổng của cặp số: 11\n",
            "Cặp số: (2, 9) Tổng của cặp số: 11\n",
            "Cặp số: (3, 8) Tổng của cặp số: 11\n",
            "Cặp số: (4, 7) Tổng của cặp số: 11\n",
            "Cặp số: (5, 6) Tổng của cặp số: 11\n"
          ]
        }
      ]
    },
    {
      "cell_type": "markdown",
      "source": [
        "Câu 6:"
      ],
      "metadata": {
        "id": "J4mJBEKst9Nd"
      }
    },
    {
      "cell_type": "code",
      "source": [
        "diem_tong_ket = {\n",
        "        'SV001': 3.2,\n",
        "        'SV002': 2.8,\n",
        "        'SV003': 3.7,\n",
        "        'SV004': 1.5,\n",
        "        'SV005': 4.0\n",
        "    }\n",
        "\n",
        "#\n",
        "def in_tu_dien(tu_dien):\n",
        "    for ma_sinh_vien, diem in tu_dien.items():\n",
        "        print(f\"Mã sinh viên: {ma_sinh_vien}, Điểm tổng kết: {diem}\")\n",
        "print(\"Từ điển trước khi thêm và xóa:\")\n",
        "in_tu_dien(diem_tong_ket)\n",
        "#\n",
        "def dem_sinh_vien_trong_doan(tu_dien, doan_diem_min, doan_diem_max):\n",
        "    dem = 0\n",
        "    for diem in tu_dien.values():\n",
        "        if doan_diem_min <= diem <= doan_diem_max:\n",
        "            dem += 1\n",
        "    return dem\n",
        "dem_sinh_vien_trong_doan = dem_sinh_vien_trong_doan(diem_tong_ket, 2.5, 3.5)\n",
        "print(f\"Số sinh viên có điểm tổng kết trong đoạn [2.5, 3.5]: {dem_sinh_vien_trong_doan}\")\n",
        "\n",
        "#\n",
        "def them_sinh_vien_moi(tu_dien, ma_sinh_vien, diem):\n",
        "    tu_dien[ma_sinh_vien] = diem\n",
        "    print(f\"\\nSinh viên mới (Mã sinh viên: {ma_sinh_vien}, Điểm tổng kết: {diem}) đã được thêm vào từ điển.\")\n",
        "them_sinh_vien_moi(diem_tong_ket, 'SV006', 3.4)\n",
        "\n",
        "#\n",
        "def xoa_sinh_vien(tu_dien, diem_toi_thieu):\n",
        "    sinh_vien_can_xoa = [ma_sv for ma_sv, diem in tu_dien.items() if diem < diem_toi_thieu]\n",
        "    for ma_sv in sinh_vien_can_xoa:\n",
        "        del tu_dien[ma_sv]\n",
        "    print(f\"\\nĐã xóa {len(sinh_vien_can_xoa)} sinh viên có điểm tổng kết dưới {diem_toi_thieu} ra khỏi từ điển.\")\n",
        "xoa_sinh_vien(diem_tong_ket, 2.0)\n",
        "\n",
        "#\n",
        "print(\"\\nTừ điển sau khi thêm và xóa:\")\n",
        "in_tu_dien(diem_tong_ket)"
      ],
      "metadata": {
        "colab": {
          "base_uri": "https://localhost:8080/"
        },
        "id": "RUmpl5dPuABJ",
        "outputId": "3163d07d-9cd3-4f24-9631-092780deb94a"
      },
      "execution_count": null,
      "outputs": [
        {
          "output_type": "stream",
          "name": "stdout",
          "text": [
            "Từ điển trước khi thêm và xóa:\n",
            "Mã sinh viên: SV001, Điểm tổng kết: 3.2\n",
            "Mã sinh viên: SV002, Điểm tổng kết: 2.8\n",
            "Mã sinh viên: SV003, Điểm tổng kết: 3.7\n",
            "Mã sinh viên: SV004, Điểm tổng kết: 1.5\n",
            "Mã sinh viên: SV005, Điểm tổng kết: 4.0\n",
            "Số sinh viên có điểm tổng kết trong đoạn [2.5, 3.5]: 2\n",
            "\n",
            "Sinh viên mới (Mã sinh viên: SV006, Điểm tổng kết: 3.4) đã được thêm vào từ điển.\n",
            "\n",
            "Đã xóa 1 sinh viên có điểm tổng kết dưới 2.0 ra khỏi từ điển.\n",
            "\n",
            "Từ điển sau khi thêm và xóa:\n",
            "Mã sinh viên: SV001, Điểm tổng kết: 3.2\n",
            "Mã sinh viên: SV002, Điểm tổng kết: 2.8\n",
            "Mã sinh viên: SV003, Điểm tổng kết: 3.7\n",
            "Mã sinh viên: SV005, Điểm tổng kết: 4.0\n",
            "Mã sinh viên: SV006, Điểm tổng kết: 3.4\n"
          ]
        }
      ]
    },
    {
      "cell_type": "markdown",
      "source": [
        "Câu 7:"
      ],
      "metadata": {
        "id": "5FKM8Lq5xaCg"
      }
    },
    {
      "cell_type": "code",
      "source": [
        "chuoi = input(\"Nhập chuỗi: \")\n",
        "\n",
        "ans = {}\n",
        "for ky_tu in chuoi:\n",
        "    ans[ky_tu] = ans.get(ky_tu, 0) + 1\n",
        "\n",
        "print(ans)"
      ],
      "metadata": {
        "colab": {
          "base_uri": "https://localhost:8080/"
        },
        "id": "zckNKz46xbx9",
        "outputId": "ee12520f-5f56-4e1d-ba1a-4d09af8b7315"
      },
      "execution_count": null,
      "outputs": [
        {
          "output_type": "stream",
          "name": "stdout",
          "text": [
            "Nhập chuỗi: chianhtu2002\n",
            "{'c': 1, 'h': 2, 'i': 1, 'a': 1, 'n': 1, 't': 1, 'u': 1, '2': 2, '0': 2}\n"
          ]
        }
      ]
    },
    {
      "cell_type": "markdown",
      "source": [
        "Câu 8:"
      ],
      "metadata": {
        "id": "Oc2YpWbMyR6f"
      }
    },
    {
      "cell_type": "code",
      "source": [
        "championLOL = [\"Yasuo\", \"Lee Sin\", \"Zed\", \"Master Yi\", \"Garen\", \"Tryndamere\"]\n",
        "\n",
        "dataLOL = [\n",
        "    {\"price\": 6300, \"Ulti\": \"Trăn trối\"},\n",
        "    {\"price\": 4800, \"Ulti\": \"Nộ Long Cước\"},\n",
        "    {\"price\": 4800, \"Ulti\": \"Dấu Ấn Tử Thần\"},\n",
        "    {\"price\": 450, \"Ulti\": \"Chiến Binh Sơn Cước\"},\n",
        "    {\"price\": 450, \"Ulti\": \"Công Lý Demacia\"},\n",
        "    {\"price\": 1350, \"Ulti\": \"Từ Chối Tử Thần\"}\n",
        "]\n",
        "\n",
        "champion_data = {}\n",
        "for i in range(len(championLOL)):\n",
        "    champion_data[championLOL[i]] = dataLOL[i]\n",
        "\n",
        "champion_can_kiem_tra = input(\"Nhập tên champion cần kiểm tra: \")\n",
        "\n",
        "if champion_can_kiem_tra in champion_data:\n",
        "    champion_info = champion_data[champion_can_kiem_tra]\n",
        "    gia_champion = champion_info[\"price\"]\n",
        "    ulti_champion = champion_info[\"Ulti\"]\n",
        "    print(f\"price của champion {champion_can_kiem_tra} là: {gia_champion}, Ulti: {ulti_champion}\")\n",
        "else:\n",
        "    print(f\"Champion {champion_can_kiem_tra} không tồn tại trong danh sách.\")"
      ],
      "metadata": {
        "id": "qvo-JNwAy-b6",
        "colab": {
          "base_uri": "https://localhost:8080/"
        },
        "outputId": "44121c6c-5cd7-4507-e81b-691a3193f3de"
      },
      "execution_count": 44,
      "outputs": [
        {
          "output_type": "stream",
          "name": "stdout",
          "text": [
            "Nhập tên champion cần kiểm tra: Yasuo\n",
            "price của champion Yasuo là: 6300, Ulti: Trăn trối\n"
          ]
        }
      ]
    },
    {
      "cell_type": "markdown",
      "source": [
        "Câu 9:"
      ],
      "metadata": {
        "id": "XKQWFIFC1ikv"
      }
    },
    {
      "cell_type": "code",
      "source": [
        "import random\n",
        "\n",
        "so_luong_sinh_vien = int(input(\"Nhập số lượng sinh viên (10 <= N < 100000): \"))\n",
        "\n",
        "if 10 <= so_luong_sinh_vien < 100000:\n",
        "    chuyen_nganh = [\"CNTT\", \"KHMT\", \"KTPM\", \"HTTT\"]\n",
        "\n",
        "    tai_khoan = {}\n",
        "\n",
        "    for i in range(so_luong_sinh_vien):\n",
        "        ma_sinh_vien = f\"202160{10000 + i + 1}\"[-10:]\n",
        "        chuyen_nganh_ngau_nhien = random.choice(chuyen_nganh)\n",
        "        mat_khau = chuyen_nganh_ngau_nhien + ma_sinh_vien\n",
        "\n",
        "        sinh_vien = {\n",
        "            \"Username\": ma_sinh_vien,\n",
        "            \"Password\": mat_khau\n",
        "        }\n",
        "\n",
        "        tai_khoan[f\"Account {i + 1}\"] = sinh_vien\n",
        "\n",
        "    for key, value in tai_khoan.items():\n",
        "        print(f\"{key}: {value}\")\n",
        "else:\n",
        "    print(\"Số lượng sinh viên không hợp lệ.\")\n"
      ],
      "metadata": {
        "colab": {
          "base_uri": "https://localhost:8080/"
        },
        "id": "ftSDRHWP1j0c",
        "outputId": "f38c5dff-9683-4307-9ba3-be053cd94f33"
      },
      "execution_count": 47,
      "outputs": [
        {
          "output_type": "stream",
          "name": "stdout",
          "text": [
            "Nhập số lượng sinh viên (10 <= N < 100000): 50\n",
            "Account 1: {'Username': '0216010001', 'Password': 'KTPM0216010001'}\n",
            "Account 2: {'Username': '0216010002', 'Password': 'CNTT0216010002'}\n",
            "Account 3: {'Username': '0216010003', 'Password': 'KHMT0216010003'}\n",
            "Account 4: {'Username': '0216010004', 'Password': 'HTTT0216010004'}\n",
            "Account 5: {'Username': '0216010005', 'Password': 'CNTT0216010005'}\n",
            "Account 6: {'Username': '0216010006', 'Password': 'KTPM0216010006'}\n",
            "Account 7: {'Username': '0216010007', 'Password': 'KTPM0216010007'}\n",
            "Account 8: {'Username': '0216010008', 'Password': 'HTTT0216010008'}\n",
            "Account 9: {'Username': '0216010009', 'Password': 'KTPM0216010009'}\n",
            "Account 10: {'Username': '0216010010', 'Password': 'CNTT0216010010'}\n",
            "Account 11: {'Username': '0216010011', 'Password': 'CNTT0216010011'}\n",
            "Account 12: {'Username': '0216010012', 'Password': 'KTPM0216010012'}\n",
            "Account 13: {'Username': '0216010013', 'Password': 'KHMT0216010013'}\n",
            "Account 14: {'Username': '0216010014', 'Password': 'HTTT0216010014'}\n",
            "Account 15: {'Username': '0216010015', 'Password': 'KHMT0216010015'}\n",
            "Account 16: {'Username': '0216010016', 'Password': 'CNTT0216010016'}\n",
            "Account 17: {'Username': '0216010017', 'Password': 'KHMT0216010017'}\n",
            "Account 18: {'Username': '0216010018', 'Password': 'HTTT0216010018'}\n",
            "Account 19: {'Username': '0216010019', 'Password': 'CNTT0216010019'}\n",
            "Account 20: {'Username': '0216010020', 'Password': 'HTTT0216010020'}\n",
            "Account 21: {'Username': '0216010021', 'Password': 'KHMT0216010021'}\n",
            "Account 22: {'Username': '0216010022', 'Password': 'KTPM0216010022'}\n",
            "Account 23: {'Username': '0216010023', 'Password': 'KHMT0216010023'}\n",
            "Account 24: {'Username': '0216010024', 'Password': 'HTTT0216010024'}\n",
            "Account 25: {'Username': '0216010025', 'Password': 'CNTT0216010025'}\n",
            "Account 26: {'Username': '0216010026', 'Password': 'HTTT0216010026'}\n",
            "Account 27: {'Username': '0216010027', 'Password': 'HTTT0216010027'}\n",
            "Account 28: {'Username': '0216010028', 'Password': 'KTPM0216010028'}\n",
            "Account 29: {'Username': '0216010029', 'Password': 'KHMT0216010029'}\n",
            "Account 30: {'Username': '0216010030', 'Password': 'HTTT0216010030'}\n",
            "Account 31: {'Username': '0216010031', 'Password': 'KTPM0216010031'}\n",
            "Account 32: {'Username': '0216010032', 'Password': 'KTPM0216010032'}\n",
            "Account 33: {'Username': '0216010033', 'Password': 'KTPM0216010033'}\n",
            "Account 34: {'Username': '0216010034', 'Password': 'CNTT0216010034'}\n",
            "Account 35: {'Username': '0216010035', 'Password': 'CNTT0216010035'}\n",
            "Account 36: {'Username': '0216010036', 'Password': 'KTPM0216010036'}\n",
            "Account 37: {'Username': '0216010037', 'Password': 'KHMT0216010037'}\n",
            "Account 38: {'Username': '0216010038', 'Password': 'KTPM0216010038'}\n",
            "Account 39: {'Username': '0216010039', 'Password': 'CNTT0216010039'}\n",
            "Account 40: {'Username': '0216010040', 'Password': 'CNTT0216010040'}\n",
            "Account 41: {'Username': '0216010041', 'Password': 'HTTT0216010041'}\n",
            "Account 42: {'Username': '0216010042', 'Password': 'KHMT0216010042'}\n",
            "Account 43: {'Username': '0216010043', 'Password': 'HTTT0216010043'}\n",
            "Account 44: {'Username': '0216010044', 'Password': 'KTPM0216010044'}\n",
            "Account 45: {'Username': '0216010045', 'Password': 'KHMT0216010045'}\n",
            "Account 46: {'Username': '0216010046', 'Password': 'HTTT0216010046'}\n",
            "Account 47: {'Username': '0216010047', 'Password': 'CNTT0216010047'}\n",
            "Account 48: {'Username': '0216010048', 'Password': 'HTTT0216010048'}\n",
            "Account 49: {'Username': '0216010049', 'Password': 'HTTT0216010049'}\n",
            "Account 50: {'Username': '0216010050', 'Password': 'CNTT0216010050'}\n"
          ]
        }
      ]
    }
  ]
}