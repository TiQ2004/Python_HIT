{
  "nbformat": 4,
  "nbformat_minor": 0,
  "metadata": {
    "colab": {
      "provenance": []
    },
    "kernelspec": {
      "name": "python3",
      "display_name": "Python 3"
    },
    "language_info": {
      "name": "python"
    }
  },
  "cells": [
    {
      "cell_type": "markdown",
      "source": [
        "Câu 1: Hãy giải quyết vấn đề sau:\n",
        ">Lập hàm MyMultiple() có số đối số truyền vào là không giới hạn. Tính tích các tham số truyền vào và trả về giá trị này. Đầu vào của bài luôn đảm bảo tham số truyền vào là dạng số.\n",
        "\n"
      ],
      "metadata": {
        "id": "cOZ21u5MedVF"
      }
    },
    {
      "cell_type": "code",
      "source": [
        "def MyMultiple(*arr):\n",
        "    ans = 1.0  # Khởi tạo giá trị kết quả bằng 1.0 để tính tích\n",
        "\n",
        "    # Tính tích của các tham số\n",
        "    for num in arr:\n",
        "        ans *= num\n",
        "\n",
        "    return ans\n",
        "\n",
        "# Kiểm tra với các bộ tham số đã cho\n",
        "print(MyMultiple(1, 2, 3, 4))\n",
        "print(MyMultiple(5, 5, 5))\n",
        "print(MyMultiple(1.2, 5))"
      ],
      "metadata": {
        "colab": {
          "base_uri": "https://localhost:8080/"
        },
        "id": "rMpp21wkejN7",
        "outputId": "a5234fcc-4d88-4706-9f75-6eec5d780c8c"
      },
      "execution_count": null,
      "outputs": [
        {
          "output_type": "stream",
          "name": "stdout",
          "text": [
            "24.0\n",
            "125.0\n",
            "6.0\n"
          ]
        }
      ]
    },
    {
      "cell_type": "markdown",
      "source": [
        "Câu 2: Viết hàm truyền vào 1 ma trận n hàng, m cột rồi in ma trận chuyển vị của nó sao cho mảng ban đầu không thay đổi."
      ],
      "metadata": {
        "id": "HjponEjmeonD"
      }
    },
    {
      "cell_type": "code",
      "source": [
        "def in_ma_tran_chuyen_vi(matrix):\n",
        "    so_hang = len(matrix)\n",
        "    so_cot = len(matrix[0])\n",
        "\n",
        "    ma_tran_chuyen_vi = [[matrix[hang][cot] for hang in range(so_hang)] for cot in range(so_cot)]\n",
        "    print(\"Đầu ra: \")\n",
        "    for hang in range(so_cot):\n",
        "        for cot in range(so_hang):\n",
        "            print(ma_tran_chuyen_vi[hang][cot], end=\" \")\n",
        "        print()\n",
        "\n",
        "# Nhập số hàng và số cột\n",
        "so_hang, so_cot = map(int, input(\"Nhập số hàng và số cột : \").split())\n",
        "\n",
        "# Nhập ma trận\n",
        "ma_tran = []\n",
        "for _ in range(so_hang):\n",
        "    hang = list(map(int, input().split()))\n",
        "    ma_tran.append(hang)\n",
        "\n",
        "# In ma trận chuyển vị\n",
        "in_ma_tran_chuyen_vi(ma_tran)\n"
      ],
      "metadata": {
        "colab": {
          "base_uri": "https://localhost:8080/"
        },
        "id": "vPLEUcJOe_ug",
        "outputId": "4996ff28-fa50-4412-849b-43e3ba09387a"
      },
      "execution_count": null,
      "outputs": [
        {
          "output_type": "stream",
          "name": "stdout",
          "text": [
            "Nhập số hàng và số cột : 3 3 \n",
            "1 2 3\n",
            "4 5 6\n",
            "7 8 9\n",
            "Đầu ra: \n",
            "1 4 7 \n",
            "2 5 8 \n",
            "3 6 9 \n"
          ]
        }
      ]
    },
    {
      "cell_type": "markdown",
      "source": [
        "Câu 3: Viết hàm nhập 1 mảng có n số. Sau đó nhập t số x và viết 1 hàm tính tổng từ vị trí đầu đến vị trí x."
      ],
      "metadata": {
        "id": "DuXlhUpfjcv_"
      }
    },
    {
      "cell_type": "code",
      "source": [
        "def tong(arr, x):\n",
        "    sum = 0\n",
        "    for i in range(0, x + 1):\n",
        "        sum += arr[i]\n",
        "    return sum\n",
        "\n",
        "print(\"Nhập phần tử của mảng:\", end = \" \")\n",
        "n = int(input())\n",
        "\n",
        "print(\"Nhập phần tử mảng:\", end = \" \")\n",
        "arr = list(map(int, input().split()))\n",
        "print(\"Nhập số trường hợp:\", end = \" \")\n",
        "t = int(input())\n",
        "\n",
        "for i in range(0, t):\n",
        "    print(\"Nhập x:\", end = \" \")\n",
        "    x = int(input())\n",
        "    print(\"Tổng từ vị trí đầu đến x: \",tong(arr, x))"
      ],
      "metadata": {
        "colab": {
          "base_uri": "https://localhost:8080/"
        },
        "id": "IGdGxQeakC6n",
        "outputId": "287e8832-0431-4a46-f654-fdf2e13e26b9"
      },
      "execution_count": 42,
      "outputs": [
        {
          "output_type": "stream",
          "name": "stdout",
          "text": [
            "Nhập phần tử của mảng: 5\n",
            "Nhập phần tử mảng: 1 2 3 4 5\n",
            "Nhập số trường hợp: 2\n",
            "Nhập x: 1\n",
            "Tổng từ vị trí đầu đến x:  3\n",
            "Nhập x: 2\n",
            "Tổng từ vị trí đầu đến x:  6\n"
          ]
        }
      ]
    },
    {
      "cell_type": "markdown",
      "source": [
        "Câu 4: Cho một tệp văn bản input.txt chứa tọa độ của 2 điểm A và B trên mặt phẳng tọa độ Oxy. Yêu cầu viết hàm đọc tọa độ của 2 điểm và hàm tính khoảng cách AB và ghi kết quả ra tệp output.txt (Có hai hàm nhé các bạn)\n",
        "\n",
        ">Tệp input.txt có cấu trúc như sau: A 2.5 4 B 3 5\n",
        "\n",
        ">Tệp output.txt có cấu trúc như sau: A(2.5, 4) B(3, 5) AB = 1.12 (Làm tròn đến số thập phân thứ 2)"
      ],
      "metadata": {
        "id": "yOXr_n3PrA9o"
      }
    },
    {
      "cell_type": "code",
      "source": [
        "from math import *\n",
        "\n",
        "\n",
        "def docFile(f):\n",
        "    temp = list(f.read().split())\n",
        "    print(temp)\n",
        "    a = list(map(float, temp[1:3]))\n",
        "    b = list(map(float, temp[4:7]))\n",
        "    return a, b\n",
        "\n",
        "\n",
        "def khoangCach(a, b):\n",
        "    return sqrt((b[0] - a[0]) ** 2 + (b[1] - a[1]) ** 2)\n",
        "\n",
        "\n",
        "if __name__ == \"__main__\":\n",
        "    f = open(\"E:\\\\Hoc Lap Trinh Python\\\\input.txt\", \"r\")\n",
        "    a, b = docFile(f)\n",
        "    f.close()\n",
        "    f = open(\"output.txt\", \"w\")\n",
        "    f.write(str(round(khoangCach(a, b), 2)))"
      ],
      "metadata": {
        "id": "tkFDvHhts38R"
      },
      "execution_count": null,
      "outputs": []
    },
    {
      "cell_type": "markdown",
      "source": [
        "Câu 5:"
      ],
      "metadata": {
        "id": "Pe5tqqyxwp42"
      }
    },
    {
      "cell_type": "code",
      "source": [
        "n = int(input())\n",
        "a, b  = 1, 1\n",
        "for i in range(n):\n",
        "    x = [int(i) for i in input().split()]\n",
        "    a *= x[0]\n",
        "    b *= x[1]\n",
        "\n",
        "tmp = gcd(a, b)\n",
        "print(int(a / tmp), int(b / tmp))"
      ],
      "metadata": {
        "colab": {
          "base_uri": "https://localhost:8080/"
        },
        "id": "dVMz1lFy2Cyu",
        "outputId": "8938b036-c3ff-4e3a-8abc-f87b5f1fb44b"
      },
      "execution_count": 48,
      "outputs": [
        {
          "output_type": "stream",
          "name": "stdout",
          "text": [
            "3\n",
            "1 2\n",
            "3 10\n",
            "5 7\n",
            "3 28\n"
          ]
        }
      ]
    },
    {
      "cell_type": "markdown",
      "source": [
        "Câu 6:"
      ],
      "metadata": {
        "id": "tptQtFoM3y7O"
      }
    },
    {
      "cell_type": "code",
      "source": [],
      "metadata": {
        "id": "HOGeklc930f7"
      },
      "execution_count": null,
      "outputs": []
    }
  ]
}