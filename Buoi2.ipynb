{
  "nbformat": 4,
  "nbformat_minor": 0,
  "metadata": {
    "colab": {
      "provenance": []
    },
    "kernelspec": {
      "name": "python3",
      "display_name": "Python 3"
    },
    "language_info": {
      "name": "python"
    }
  },
  "cells": [
    {
      "cell_type": "markdown",
      "source": [
        "Câu 1:"
      ],
      "metadata": {
        "id": "EbPOEQLU7L79"
      }
    },
    {
      "cell_type": "code",
      "source": [
        "from datetime import datetime\n",
        "\n",
        "def Tinh_ngay(date_str):\n",
        "    input_date = datetime.strptime(date_str, \"%d/%m/%Y\")\n",
        "\n",
        "    end_of_year = datetime(input_date.year, 12, 31)\n",
        "    ans = (end_of_year - input_date).days\n",
        "\n",
        "    return ans\n",
        "\n",
        "input_date = input(\"Nhập vào một chuỗi ngày (dd/mm/yyyy): \")\n",
        "\n",
        "result = Tinh_ngay(input_date) + 1\n",
        "print(result)"
      ],
      "metadata": {
        "colab": {
          "base_uri": "https://localhost:8080/"
        },
        "id": "e_T1KwBr7PKh",
        "outputId": "39a87557-f68a-4a79-9dce-46d104754b54"
      },
      "execution_count": 22,
      "outputs": [
        {
          "output_type": "stream",
          "name": "stdout",
          "text": [
            "Nhập vào một chuỗi ngày (dd/mm/yyyy): 12/05/2001\n",
            "234\n"
          ]
        }
      ]
    },
    {
      "cell_type": "markdown",
      "source": [
        "Câu 2:"
      ],
      "metadata": {
        "id": "0HYgQW3RGmBi"
      }
    },
    {
      "cell_type": "code",
      "source": [
        "# Nhập số lượng số và danh sách số từ người dùng\n",
        "n = int(input())\n",
        "a = list(map(int, input().split()))\n",
        "\n",
        "# lấy kết quả\n",
        "ans_list = [num for num in a if num % 2 != 0]\n",
        "ans_list.sort()\n",
        "\n",
        "# In kết quả\n",
        "print(len(ans_list))\n",
        "print(\" \".join(map(str, ans_list)))"
      ],
      "metadata": {
        "colab": {
          "base_uri": "https://localhost:8080/"
        },
        "id": "3B-ECVxwGnuH",
        "outputId": "c83950ac-ef6e-4737-cc3f-283e4400fa18"
      },
      "execution_count": 26,
      "outputs": [
        {
          "output_type": "stream",
          "name": "stdout",
          "text": [
            "10\n",
            "1 4 29 187 2 30 50 87 12 34\n",
            "4\n",
            "1 29 87 187\n"
          ]
        }
      ]
    },
    {
      "cell_type": "markdown",
      "source": [
        "Câu 3:"
      ],
      "metadata": {
        "id": "aEysuyGxMN5R"
      }
    },
    {
      "cell_type": "code",
      "source": [
        "import re\n",
        "# Nhập chuỗi\n",
        "chuoi = input(\"Nhập vào một chuỗi: \")\n",
        "\n",
        "# Tìm số trong chuỗi\n",
        "so_list = re.findall(r'-?\\d+', chuoi)\n",
        "\n",
        "# Tính tổng các số\n",
        "ans = sum(map(int, so_list))\n",
        "\n",
        "# In kết quả\n",
        "print(ans)"
      ],
      "metadata": {
        "colab": {
          "base_uri": "https://localhost:8080/"
        },
        "id": "qGAoJOcDMPZv",
        "outputId": "e53a7c2f-d2e1-4fc6-b506-67c3b8de6381"
      },
      "execution_count": 25,
      "outputs": [
        {
          "output_type": "stream",
          "name": "stdout",
          "text": [
            "Nhập vào một chuỗi: chitu21anh34kdf-234\n",
            "-179\n"
          ]
        }
      ]
    },
    {
      "cell_type": "markdown",
      "source": [
        "Câu 4:"
      ],
      "metadata": {
        "id": "E-JVIFinPnxS"
      }
    },
    {
      "cell_type": "code",
      "source": [
        "n = int(input())\n",
        "arr = list(map(int, input().split()))\n",
        "even = sum(num for num in arr if num % 2 == 0)\n",
        "odd = sum(num for num in arr if num % 2 != 0)\n",
        "if (even > odd):\n",
        "  print('even')\n",
        "elif (even < odd):\n",
        "  print('odd')\n",
        "else:\n",
        "  print('equal')"
      ],
      "metadata": {
        "colab": {
          "base_uri": "https://localhost:8080/"
        },
        "id": "3W3Pn-YGPpcx",
        "outputId": "7112f07b-6b05-414c-899d-9cb3c07ccc6b"
      },
      "execution_count": 32,
      "outputs": [
        {
          "output_type": "stream",
          "name": "stdout",
          "text": [
            "5\n",
            "1 2 3 4 5\n",
            "odd\n"
          ]
        }
      ]
    }
  ]
}